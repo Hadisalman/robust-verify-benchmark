{
 "cells": [
  {
   "cell_type": "code",
   "execution_count": 29,
   "metadata": {},
   "outputs": [
    {
     "name": "stdout",
     "output_type": "stream",
     "text": [
      "The autoreload extension is already loaded. To reload it, use:\n",
      "  %reload_ext autoreload\n"
     ]
    }
   ],
   "source": [
    "%load_ext autoreload\n",
    "%autoreload 2\n",
    "\n",
    "import torch\n",
    "import torch.nn as nn\n",
    "import torch.optim as optim\n",
    "from torch.autograd import Variable\n",
    "import torchvision.datasets as datasets\n",
    "import torchvision.transforms as transforms\n",
    "\n",
    "import matplotlib.pyplot as plt\n",
    "import numpy as np\n",
    "\n",
    "import sys\n",
    "sys.path.append(\"../\")\n",
    "from convex_adversarial_wong import DualNetBounds as DualNetBounds_LP, Affine, full_bias\n",
    "from convex_adversarial import DualNetBounds as DualNetBounds\n",
    "\n",
    "import gurobipy \n",
    "import cvxpy as cp\n",
    "import time\n",
    "%matplotlib inline\n",
    "# import mpld3\n",
    "# mpld3.enable_notebook()"
   ]
  },
  {
   "cell_type": "markdown",
   "metadata": {},
   "source": [
    "#### Setup\n"
   ]
  },
  {
   "cell_type": "code",
   "execution_count": 30,
   "metadata": {},
   "outputs": [],
   "source": [
    "epsilon = 1e-2\n",
    "torch.manual_seed(1)\n",
    "mnist_test = datasets.MNIST('data', train=False, download=True, transform=transforms.ToTensor())\n",
    "test_loader = torch.utils.data.DataLoader(mnist_test, batch_size=1, shuffle=False, pin_memory=True)\n",
    "for X,y in test_loader:\n",
    "    break\n",
    "\n",
    "sample = X.flatten()\n",
    "num_classes = 10"
   ]
  },
  {
   "cell_type": "markdown",
   "metadata": {},
   "source": [
    "#### Network random initialization"
   ]
  },
  {
   "cell_type": "code",
   "execution_count": 31,
   "metadata": {},
   "outputs": [
    {
     "data": {
      "text/plain": [
       "tensor([9])"
      ]
     },
     "execution_count": 31,
     "metadata": {},
     "output_type": "execute_result"
    }
   ],
   "source": [
    "#### Network initialization\n",
    "class Flatten(nn.Module):\n",
    "    def forward(self, x):\n",
    "        return x.view(x.size(0), -1)\n",
    "\n",
    "# net = nn.Sequential(\n",
    "#     nn.Conv2d(1, 16, 4, stride=2, padding=1),\n",
    "#     nn.ReLU(),\n",
    "#     nn.Conv2d(16, 32, 4, stride=2, padding=1),\n",
    "#     nn.ReLU(),\n",
    "#     Flatten(),\n",
    "#     nn.Linear(32*7*7,100),\n",
    "#     nn.ReLU(),\n",
    "#     nn.Linear(100, 10)\n",
    "# )\n",
    "\n",
    "# net = nn.Sequential(\n",
    "#     nn.Conv2d(1, 32, 3, stride=1, padding=1),\n",
    "#     nn.ReLU(),\n",
    "#     nn.Conv2d(32, 32, 4, stride=2, padding=1),\n",
    "#     nn.ReLU(),\n",
    "#     nn.Conv2d(32, 64, 3, stride=1, padding=1),\n",
    "#     nn.ReLU(),\n",
    "#     nn.Conv2d(64, 64, 4, stride=2, padding=1),\n",
    "#     nn.ReLU(),\n",
    "#     Flatten(),\n",
    "#     nn.Linear(64*7*7,512),\n",
    "#     nn.ReLU(),\n",
    "#     nn.Linear(512,512),\n",
    "#     nn.ReLU(),\n",
    "#     nn.Linear(512,10)\n",
    "# )\n",
    "\n",
    "\n",
    "net = nn.Sequential(\n",
    "    Flatten(),\n",
    "    nn.Linear(784,10),\n",
    "    nn.ReLU(),\n",
    "    nn.Linear(10,10),\n",
    "    nn.ReLU(),\n",
    "    nn.Linear(10,num_classes)\n",
    ")\n",
    "\n",
    "logits = net(X)\n",
    "y_pred = logits.max(1)[1]\n",
    "y_pred\n",
    "# logits\n",
    "# net"
   ]
  },
  {
   "cell_type": "markdown",
   "metadata": {},
   "source": [
    "## CMU algorithm"
   ]
  },
  {
   "cell_type": "code",
   "execution_count": 32,
   "metadata": {},
   "outputs": [],
   "source": [
    "C = np.eye(num_classes)[y_pred] - np.eye(num_classes)\n",
    "\n",
    "dual = DualNetBounds_LP(net, Variable(X), epsilon)\n",
    "\n",
    "layers = dual.layers\n",
    "affine = dual.affine\n",
    "k = len(layers)\n",
    "\n",
    "W = [l(Variable(torch.eye(l.in_features))).t().cpu().data.numpy() for l in affine]\n",
    "b = [bias.view(-1).cpu().data.numpy() for bias in dual.biases]\n",
    "\n",
    "margins_cmu = []\n",
    "for ind_sample, sample in enumerate([sample]):\n",
    "    sample = sample.reshape(-1)\n",
    "    zl = [l.data[ind_sample,:].cpu().numpy() for l in dual.zl]\n",
    "    zu = [u.data[ind_sample,:].cpu().numpy() for u in dual.zu]\n",
    "\n",
    "    z = [cp.Variable(l.in_features) for l in affine]\n",
    "    zhat = [cp.Variable(l.out_features) for l in affine]\n",
    "\n",
    "    cons_eq = [zhat[i] == W[i]*z[i] + b[i] for i in range(k)]\n",
    "    cons_ball = [z[0] >= sample - epsilon, z[0] <= sample + epsilon]\n",
    "    cons_zero = [z[i] >= 0 for i in range(1,k)]\n",
    "    cons_linear = [z[i+1] >= zhat[i] for i in range(k-1)]\n",
    "    cons_upper = [(cp.multiply(-(np.maximum(zu[i],0) - np.maximum(zl[i], 0)), zhat[i]) +\n",
    "                   cp.multiply((zu[i] - zl[i]), z[i+1]) <= \n",
    "                   zu[i]*np.maximum(zl[i],0) - zl[i]*np.maximum(zu[i],0)) for i in range(k-1)]\n",
    "\n",
    "    cons = cons_eq + cons_ball + cons_zero + cons_linear + cons_upper\n",
    "    \n",
    "    # Exact\n",
    "    for node_idx in range(zu[-1].shape[0]):\n",
    "        f_primal = cp.Problem(cp.Minimize(C[node_idx]*zhat[-1]), cons).solve(verbose=False, solver=cp.GUROBI, warm_start=True)\n",
    "        margins_cmu.append(f_primal)\n",
    "    # print('Primal exact solution: \\n',f_primal_1,'\\n',f_primal_2)\n",
    "    # print('Dual approximate solution: \\n',f_dual_1.item(),'\\n',f_dual_2.item())\n"
   ]
  },
  {
   "cell_type": "code",
   "execution_count": 33,
   "metadata": {},
   "outputs": [
    {
     "name": "stdout",
     "output_type": "stream",
     "text": [
      "ROBUST for epsilon=0.01!\n"
     ]
    },
    {
     "data": {
      "image/png": "[encoded data removed]",
      "text/plain": [
       "<Figure size 432x288 with 1 Axes>"
      ]
     },
     "metadata": {
      "needs_background": "light"
     },
     "output_type": "display_data"
    }
   ],
   "source": [
    "# print(margins_cmu)\n",
    "plt.bar([i for i in range(10)],margins_cmu)\n",
    "plt.ylabel('Margin')\n",
    "plt.xlabel('class')\n",
    "plt.xticks([i for i in range(10)])\n",
    "if np.all(np.array(margins_cmu)>=0):\n",
    "    print('ROBUST for epsilon={}!'.format(epsilon))\n",
    "else:\n",
    "    print('NOT ROBUST for epsilon={} :('.format(epsilon))"
   ]
  },
  {
   "cell_type": "markdown",
   "metadata": {},
   "source": [
    "# Exact LP solution"
   ]
  },
  {
   "cell_type": "code",
   "execution_count": 34,
   "metadata": {},
   "outputs": [],
   "source": [
    "def init_affine(net, X):\n",
    "    layers = [l for l in net if isinstance(l, (nn.Linear, nn.Conv2d))]\n",
    "    affine = [Affine(l) for l in layers]\n",
    "    biases = [full_bias(l, affine[i].out_features) \n",
    "                    for i,l in enumerate(layers)]\n",
    "\n",
    "    _ = X.view(1,-1)\n",
    "    for a in affine: \n",
    "        _ = a(_)\n",
    "\n",
    "    return affine, biases\n"
   ]
  },
  {
   "cell_type": "code",
   "execution_count": 35,
   "metadata": {
    "scrolled": true
   },
   "outputs": [
    {
     "name": "stdout",
     "output_type": "stream",
     "text": [
      "Layer:  0\n",
      "Number of nodes in the layer:  10\n",
      "Time for solving this layer: 0.23299956321716309 sec\n",
      "\n",
      "\n",
      "Layer:  1\n",
      "Number of nodes in the layer:  10\n",
      "Time for solving this layer: 0.4010343551635742 sec\n",
      "\n",
      "\n",
      "Layer:  2\n",
      "Number of nodes in the layer:  10\n",
      "Time for solving this layer: 0.24100422859191895 sec\n",
      "\n",
      "\n"
     ]
    }
   ],
   "source": [
    "C = np.eye(num_classes)[y_pred] - np.eye(num_classes)\n",
    "\n",
    "affine, biases = init_affine(net, X)\n",
    "num_linear_layers = len(affine)\n",
    "\n",
    "W = [l(Variable(torch.eye(l.in_features))).t().cpu().data.numpy() for l in affine]\n",
    "b = [bias.view(-1).cpu().data.numpy() for bias in biases]\n",
    "\n",
    "points_all_samples = []\n",
    "zl = [[] for i in range(num_linear_layers)]\n",
    "zu = [[] for i in range(num_linear_layers)]\n",
    "margins = []\n",
    "end_time = time.time()\n",
    "for k in range(num_linear_layers):\n",
    "    print('Layer: ',k)\n",
    "    print('Number of nodes in the layer: ',affine[k].out_features)\n",
    "    z = [cp.Variable(l.in_features) for l in affine[:k+1]]\n",
    "    zhat = [cp.Variable(l.out_features) for l in affine[:k+1]]\n",
    "\n",
    "    cons_eq = [zhat[i] == W[i]*z[i] + b[i] for i in range(k+1)]\n",
    "    cons_ball = [z[0] >= sample - epsilon, z[0] <= sample + epsilon]\n",
    "    cons_zero = [z[i] >= 0 for i in range(1,k+1)]\n",
    "    cons_linear = [z[i+1] >= zhat[i] for i in range(k)]\n",
    "    cons_upper = [(cp.multiply(-(np.maximum(zu[i],0) - np.maximum(zl[i], 0)), zhat[i]) +\n",
    "                    cp.multiply((zu[i] - zl[i]), z[i+1]) <= \n",
    "                    zu[i]*np.maximum(zl[i],0) - zl[i]*np.maximum(zu[i],0)) for i in range(k)]\n",
    "    cons = cons_eq + cons_ball + cons_zero + cons_linear + cons_upper\n",
    "\n",
    "    for node_idx in range(affine[k].out_features):\n",
    "        if k == num_linear_layers-1:\n",
    "            if node_idx == y_pred.item():\n",
    "                margins.append(0)\n",
    "                continue\n",
    "            f_primal_1 = cp.Problem(cp.Minimize(C[node_idx]*zhat[-1]), cons).solve(verbose=False, solver=cp.ECOS, warm_start=True)\n",
    "            margins.append(f_primal_1)\n",
    "        else:\n",
    "            # Exact\n",
    "            f_primal_1 = cp.Problem(cp.Minimize(zhat[-1][node_idx]), cons).solve(verbose=False, solver=cp.ECOS, warm_start=True)\n",
    "            f_min = zhat[-1][node_idx].value\n",
    "            zl[k].append(f_min)\n",
    "\n",
    "            f_primal_2 = cp.Problem(cp.Maximize(zhat[-1][node_idx]), cons).solve(verbose=False, solver=cp.ECOS, warm_start=True)\n",
    "            f_max = zhat[-1][node_idx].value\n",
    "            zu[k].append(f_max)\n",
    "    zl[k] = np.array(zl[k])\n",
    "    zu[k] = np.array(zu[k])\n",
    "    iter_time = time.time()\n",
    "    print(\"Time for solving this layer: {0} sec\".format(iter_time-end_time))\n",
    "    end_time = iter_time\n",
    "    print('\\n')"
   ]
  },
  {
   "cell_type": "code",
   "execution_count": 36,
   "metadata": {},
   "outputs": [
    {
     "name": "stdout",
     "output_type": "stream",
     "text": [
      "ROBUST for epsilon=0.01!\n"
     ]
    },
    {
     "data": {
      "image/png": "[encoded data removed]",
      "text/plain": [
       "<Figure size 432x288 with 1 Axes>"
      ]
     },
     "metadata": {
      "needs_background": "light"
     },
     "output_type": "display_data"
    }
   ],
   "source": [
    "# np.array(margins) >= np.array(margins_cmu)\n",
    "plt.bar([i for i in range(10)], margins, label='exact_LP')\n",
    "plt.bar([i for i in range(10)], margins_cmu, color='r', alpha=0.4, label='cmu')\n",
    "plt.legend()\n",
    "plt.ylabel('Margin (robust if all positive)')\n",
    "plt.xlabel('class')\n",
    "plt.xticks([i for i in range(10)])\n",
    "if np.all(np.array(margins)>=0):\n",
    "    print('ROBUST for epsilon={}!'.format(epsilon))\n",
    "else:\n",
    "    print('NOT ROBUST for epsilon={} :('.format(epsilon))       "
   ]
  },
  {
   "cell_type": "markdown",
   "metadata": {},
   "source": [
    "# Slightly faster version: decomposed constraints"
   ]
  },
  {
   "cell_type": "code",
   "execution_count": 37,
   "metadata": {},
   "outputs": [
    {
     "name": "stdout",
     "output_type": "stream",
     "text": [
      "Layer:  0\n",
      "Number of nodes in the layer:  10\n",
      "Time for solving this layer: 0.18199515342712402 sec\n",
      "\n",
      "\n",
      "Layer:  1\n",
      "Number of nodes in the layer:  10\n",
      "Time for solving this layer: 0.39203691482543945 sec\n",
      "\n",
      "\n",
      "Layer:  2\n",
      "Number of nodes in the layer:  10\n",
      "Time for solving this layer: 0.24196553230285645 sec\n",
      "\n",
      "\n"
     ]
    }
   ],
   "source": [
    "C = np.eye(num_classes)[y_pred] - np.eye(num_classes)\n",
    "\n",
    "affine, biases = init_affine(net, X)\n",
    "num_linear_layers = len(affine)\n",
    "\n",
    "W = [l(Variable(torch.eye(l.in_features))).t().cpu().data.numpy() for l in affine]\n",
    "b = [bias.view(-1).cpu().data.numpy() for bias in biases]\n",
    "\n",
    "zl = [[] for i in range(num_linear_layers)]\n",
    "zu = [[] for i in range(num_linear_layers)]\n",
    "margins = []\n",
    "\n",
    "end_time = time.time()\n",
    "for k in range(num_linear_layers):\n",
    "    print('Layer: ',k)\n",
    "    print('Number of nodes in the layer: ',affine[k].out_features)\n",
    "    if k == num_linear_layers -1:\n",
    "        z = [cp.Variable(l.in_features) for l in affine[:k+1]]\n",
    "        zhat = [cp.Variable(l.out_features) for l in affine[:k+1]]\n",
    "\n",
    "        cons_eq = [zhat[i] == W[i]*z[i] + b[i] for i in range(k+1)]\n",
    "        cons_ball = [z[0] >= sample - epsilon, z[0] <= sample + epsilon]\n",
    "        cons_zero = [z[i] >= 0 for i in range(1,k+1)]\n",
    "        cons_linear = [z[i+1] >= zhat[i] for i in range(k)]\n",
    "        cons_upper = [(cp.multiply(-(np.maximum(zu[i],0) - np.maximum(zl[i], 0)), zhat[i]) +\n",
    "                        cp.multiply((zu[i] - zl[i]), z[i+1]) <= \n",
    "                        zu[i]*np.maximum(zl[i],0) - zl[i]*np.maximum(zu[i],0)) for i in range(k)]\n",
    "        cons = cons_eq + cons_ball + cons_zero + cons_linear + cons_upper\n",
    "\n",
    "        for node_idx in range(affine[k].out_features):\n",
    "            if node_idx == y_pred.item():\n",
    "                margins.append(0)\n",
    "                continue\n",
    "            f_primal_1 = cp.Problem(cp.Minimize(C[node_idx]*zhat[-1]), cons).solve(verbose=False, solver=cp.ECOS, warm_start=True)\n",
    "            margins.append(f_primal_1)\n",
    "        iter_time = time.time()\n",
    "        print(\"Time for solving this layer: {0} sec\".format(iter_time-end_time))\n",
    "        end_time = iter_time\n",
    "        print('\\n')\n",
    "\n",
    "        break    \n",
    "\n",
    "    z = [cp.Variable(l.in_features) for l in affine[:k+1]]\n",
    "    zhat = [cp.Variable(l.out_features) for l in affine[:k]]\n",
    "    zhat += [cp.Variable(1)]\n",
    "    cons_ball = [z[0] >= sample - epsilon, z[0] <= sample + epsilon]\n",
    "    cons_zero = [z[i] >= 0 for i in range(1,k+1)]\n",
    "    cons_linear = [z[i+1] >= zhat[i] for i in range(k)]\n",
    "    cons_upper = [(cp.multiply(-(np.maximum(zu[i],0) - np.maximum(zl[i], 0)), zhat[i]) +\n",
    "                cp.multiply((zu[i] - zl[i]), z[i+1]) <= \n",
    "                zu[i]*np.maximum(zl[i],0) - zl[i]*np.maximum(zu[i],0)) for i in range(k)]\n",
    "    \n",
    "    for node_idx in range(affine[k].out_features):\n",
    "        cons_eq = [zhat[i] == W[i]*z[i] + b[i] for i in range(k)]\n",
    "        cons_eq += [zhat[k] == W[k][node_idx]*z[k] + b[k][node_idx]]\n",
    "\n",
    "        cons = cons_eq + cons_ball + cons_zero + cons_linear + cons_upper\n",
    "\n",
    "        if k == num_linear_layers-1:\n",
    "            if node_idx == y_pred.item():\n",
    "                margins.append(0)\n",
    "                continue\n",
    "            f_primal_1 = cp.Problem(cp.Minimize(C[node_idx]*zhat[-1]), cons).solve(verbose=False, solver=cp.ECOS, warm_start=True)\n",
    "            margins.append(f_primal_1)\n",
    "        else:\n",
    "            # Exact\n",
    "            f_primal_1 = cp.Problem(cp.Minimize(zhat[-1]), cons).solve(verbose=False, solver=cp.ECOS, warm_start=True)\n",
    "            f_min = zhat[-1][0].value\n",
    "            zl[k].append(f_min)\n",
    "\n",
    "            f_primal_2 = cp.Problem(cp.Maximize(zhat[-1]), cons).solve(verbose=False, solver=cp.ECOS, warm_start=True)\n",
    "            f_max = zhat[-1][0].value\n",
    "            zu[k].append(f_max)\n",
    "\n",
    "    zl[k] = np.array(zl[k])\n",
    "    zu[k] = np.array(zu[k])\n",
    "    iter_time = time.time()\n",
    "    print(\"Time for solving this layer: {0} sec\".format(iter_time-end_time))\n",
    "    end_time = iter_time\n",
    "    print('\\n')\n"
   ]
  },
  {
   "cell_type": "code",
   "execution_count": 38,
   "metadata": {},
   "outputs": [
    {
     "name": "stdout",
     "output_type": "stream",
     "text": [
      "ROBUST for epsilon=0.01!\n"
     ]
    },
    {
     "data": {
      "image/png": "[encoded data removed]",
      "text/plain": [
       "<Figure size 432x288 with 1 Axes>"
      ]
     },
     "metadata": {
      "needs_background": "light"
     },
     "output_type": "display_data"
    }
   ],
   "source": [
    "# np.array(margins) >= np.array(margins_cmu)\n",
    "plt.bar([i for i in range(10)], margins, label='exact_LP')\n",
    "plt.bar([i for i in range(10)], margins_cmu, color='r', alpha=0.4, label='cmu')\n",
    "plt.legend()\n",
    "plt.ylabel('Margin (robust if all positive)')\n",
    "plt.xlabel('class')\n",
    "plt.xticks([i for i in range(10)])\n",
    "if np.all(np.array(margins)>=0):\n",
    "    print('ROBUST for epsilon={}!'.format(epsilon))\n",
    "else:\n",
    "    print('NOT ROBUST for epsilon={} :('.format(epsilon))    "
   ]
  },
  {
   "cell_type": "markdown",
   "metadata": {},
   "source": [
    "## Relu stability constraint elimination"
   ]
  },
  {
   "cell_type": "code",
   "execution_count": 39,
   "metadata": {},
   "outputs": [
    {
     "name": "stdout",
     "output_type": "stream",
     "text": [
      "Layer:  0\n",
      "Number of nodes in the layer:  10\n",
      "Percentage of Stable ReLUs = 40.0 %\n",
      "Time for solving this layer: 0.2629995346069336 sec\n",
      "\n",
      "\n",
      "Layer:  1\n",
      "Number of nodes in the layer:  10\n",
      "Percentage of Stable ReLUs = 80.0 %\n",
      "Time for solving this layer: 0.49900102615356445 sec\n",
      "\n",
      "\n",
      "Layer:  2\n",
      "Number of nodes in the layer:  10\n",
      "Percentage of Stable ReLUs = nan %\n",
      "Time for solving this layer: 0.3620312213897705 sec\n",
      "\n",
      "\n"
     ]
    },
    {
     "name": "stderr",
     "output_type": "stream",
     "text": [
      "C:\\Users\\HASALMAN\\AppData\\Local\\Continuum\\anaconda2\\envs\\test\\lib\\site-packages\\ipykernel_launcher.py:57: RuntimeWarning: invalid value encountered in long_scalars\n"
     ]
    }
   ],
   "source": [
    "C = np.eye(num_classes)[y_pred] - np.eye(num_classes)\n",
    "\n",
    "affine, biases = init_affine(net, X)\n",
    "num_linear_layers = len(affine)\n",
    "\n",
    "W = [l(Variable(torch.eye(l.in_features))).t().cpu().data.numpy() for l in affine]\n",
    "b = [bias.view(-1).cpu().data.numpy() for bias in biases]\n",
    "\n",
    "zl = [[] for i in range(num_linear_layers)]\n",
    "zu = [[] for i in range(num_linear_layers)]\n",
    "I_minus = [[] for i in range(num_linear_layers)]\n",
    "I_plus = [[] for i in range(num_linear_layers)]\n",
    "I = [[] for i in range(num_linear_layers)]\n",
    "\n",
    "margins = []\n",
    "end_time = time.time()\n",
    "for k in range(num_linear_layers):\n",
    "    print('Layer: ',k)\n",
    "    print('Number of nodes in the layer: ',affine[k].out_features)\n",
    "    z = [cp.Variable(l.in_features) for l in affine[:k+1]]\n",
    "    zhat = [cp.Variable(l.out_features) for l in affine[:k+1]]\n",
    "\n",
    "    cons_eq = [zhat[i] == W[i]*z[i] + b[i] for i in range(k+1)]\n",
    "    cons_ball = [z[0] >= sample - epsilon, z[0] <= sample + epsilon]\n",
    "\n",
    "    cons_minus = [z[i][I_minus[i-1]] == 0 for i in range(1,k+1) if np.sum(I_minus[i-1]) != 0]\n",
    "    cons_plus = [z[i+1][I_plus[i]] == zhat[i][I_plus[i]] for i in range(k) if np.sum(I_plus[i]) != 0]\n",
    "    \n",
    "    cons_zero = [z[i][I[i-1]] >= 0 for i in range(1,k+1) if np.sum(I[i-1]) != 0]\n",
    "    cons_linear = [z[i+1][I[i]] >= zhat[i][I[i]] for i in range(k) if np.sum(I[i]) != 0]\n",
    "    cons_upper = [(cp.multiply(-zu[i][I[i]], zhat[i][I[i]]) + \n",
    "                   cp.multiply((zu[i][I[i]] - zl[i][I[i]]), z[i+1][I[i]]) <= \n",
    "                     - zl[i][I[i]]*zu[i][I[i]]) for i in range(k) if np.sum(I[i]) != 0]\n",
    "    cons = cons_eq + cons_ball + cons_zero + cons_linear + cons_upper + cons_minus + cons_plus\n",
    "\n",
    "    for node_idx in range(affine[k].out_features):\n",
    "        if k == num_linear_layers-1:\n",
    "            if node_idx == y_pred.item():\n",
    "                margins.append(0)\n",
    "                continue\n",
    "            f_primal_1 = cp.Problem(cp.Minimize(C[node_idx]*zhat[-1]), cons).solve(verbose=False, solver=cp.ECOS, warm_start=True)\n",
    "            margins.append(f_primal_1)\n",
    "        else:\n",
    "            # Exact\n",
    "            f_primal_1 = cp.Problem(cp.Minimize(zhat[-1][node_idx]), cons).solve(verbose=False, solver=cp.ECOS, warm_start=True)\n",
    "            f_min = zhat[-1][node_idx].value\n",
    "            zl[k].append(f_min)\n",
    "\n",
    "            f_primal_2 = cp.Problem(cp.Maximize(zhat[-1][node_idx]), cons).solve(verbose=False, solver=cp.ECOS, warm_start=True)\n",
    "            f_max = zhat[-1][node_idx].value\n",
    "            zu[k].append(f_max)\n",
    "    zl[k] = np.array(zl[k])\n",
    "    zu[k] = np.array(zu[k])\n",
    "    I_minus[k] = zu[k] < 0\n",
    "    I_plus[k] = zl[k] > 0\n",
    "    I[k] = (zu[k] >= 0) * (zl[k] <= 0)\n",
    "    print('Percentage of Stable ReLUs = {} %'.format(100 - 100*np.sum(I[k])/len(I[k])))\n",
    "    iter_time = time.time()\n",
    "    print(\"Time for solving this layer: {0} sec\".format(iter_time-end_time))\n",
    "    end_time = iter_time\n",
    "    print('\\n')"
   ]
  },
  {
   "cell_type": "code",
   "execution_count": 40,
   "metadata": {},
   "outputs": [
    {
     "name": "stdout",
     "output_type": "stream",
     "text": [
      "ROBUST for epsilon=0.01!\n"
     ]
    },
    {
     "data": {
      "image/png": "[encoded data removed]",
      "text/plain": [
       "<Figure size 432x288 with 1 Axes>"
      ]
     },
     "metadata": {
      "needs_background": "light"
     },
     "output_type": "display_data"
    }
   ],
   "source": [
    "# np.array(margins) >= np.array(margins_cmu)\n",
    "plt.bar([i for i in range(10)], margins, label='exact_LP')\n",
    "plt.bar([i for i in range(10)], margins_cmu, color='r', alpha=0.4, label='cmu')\n",
    "plt.legend()\n",
    "plt.ylabel('Margin (robust if all positive)')\n",
    "plt.xlabel('class')\n",
    "plt.xticks([i for i in range(10)])\n",
    "if np.all(np.array(margins)>=0):\n",
    "    print('ROBUST for epsilon={}!'.format(epsilon))\n",
    "else:\n",
    "    print('NOT ROBUST for epsilon={} :('.format(epsilon))    "
   ]
  },
  {
   "cell_type": "markdown",
   "metadata": {},
   "source": [
    "## Relu stability constraint elimination 2\n"
   ]
  },
  {
   "cell_type": "code",
   "execution_count": 41,
   "metadata": {},
   "outputs": [
    {
     "name": "stdout",
     "output_type": "stream",
     "text": [
      "Layer:  0\n",
      "Number of nodes in the layer:  10\n",
      "Percentage of Stable ReLUs = 40.0 %\n",
      "Time for solving this layer: 0.18602657318115234 sec\n",
      "\n",
      "\n",
      "Layer:  1\n",
      "Number of nodes in the layer:  10\n",
      "Percentage of Stable ReLUs = 80.0 %\n",
      "Time for solving this layer: 0.6167488098144531 sec\n",
      "\n",
      "\n",
      "Layer:  2\n",
      "Number of nodes in the layer:  10\n",
      "Time for solving this layer: 0.363037109375 sec\n",
      "\n",
      "\n"
     ]
    }
   ],
   "source": [
    "C = np.eye(num_classes)[y_pred] - np.eye(num_classes)\n",
    "\n",
    "affine, biases = init_affine(net, X)\n",
    "num_linear_layers = len(affine)\n",
    "\n",
    "W = [l(Variable(torch.eye(l.in_features))).t().cpu().data.numpy() for l in affine]\n",
    "b = [bias.view(-1).cpu().data.numpy() for bias in biases]\n",
    "\n",
    "points_all_samples = []\n",
    "zl = [[] for i in range(num_linear_layers)]\n",
    "zu = [[] for i in range(num_linear_layers)]\n",
    "I_minus = [[] for i in range(num_linear_layers)]\n",
    "I_plus = [[] for i in range(num_linear_layers)]\n",
    "I = [[] for i in range(num_linear_layers)]\n",
    "\n",
    "margins = []\n",
    "\n",
    "end_time = time.time()\n",
    "for k in range(num_linear_layers):\n",
    "    print('Layer: ',k)\n",
    "    print('Number of nodes in the layer: ',affine[k].out_features)\n",
    "    if k == num_linear_layers -1:\n",
    "        z = [cp.Variable(l.in_features) for l in affine[:k+1]]\n",
    "        zhat = [cp.Variable(l.out_features) for l in affine[:k+1]]\n",
    "        cons_ball = [z[0] >= sample - epsilon, z[0] <= sample + epsilon]\n",
    "        cons_eq = [zhat[i] == W[i]*z[i] + b[i] for i in range(k+1)]\n",
    "\n",
    "        cons_minus = [z[i][I_minus[i-1]] == 0 for i in range(1,k+1) if np.sum(I_minus[i-1]) != 0]\n",
    "        cons_plus = [z[i+1][I_plus[i]] == zhat[i][I_plus[i]] for i in range(k) if np.sum(I_plus[i]) != 0]\n",
    "\n",
    "        cons_zero = [z[i][I[i-1]] >= 0 for i in range(1,k+1) if np.sum(I[i-1]) != 0]\n",
    "        cons_linear = [z[i+1][I[i]] >= zhat[i][I[i]] for i in range(k) if np.sum(I[i]) != 0]\n",
    "        cons_upper = [(cp.multiply(-zu[i][I[i]], zhat[i][I[i]]) + \n",
    "                       cp.multiply((zu[i][I[i]] - zl[i][I[i]]), z[i+1][I[i]]) <= \n",
    "                         - zl[i][I[i]]*zu[i][I[i]]) for i in range(k) if np.sum(I[i]) != 0]\n",
    "        cons = cons_eq + cons_ball + cons_zero + cons_linear + cons_upper + cons_minus + cons_plus\n",
    "\n",
    "        for node_idx in range(affine[k].out_features):\n",
    "            if node_idx == y_pred.item():\n",
    "                margins.append(0)\n",
    "                continue\n",
    "            f_primal_1 = cp.Problem(cp.Minimize(C[node_idx]*zhat[-1]), cons).solve(verbose=False, solver=cp.ECOS, warm_start=True)\n",
    "            margins.append(f_primal_1)\n",
    "        iter_time = time.time()\n",
    "        print(\"Time for solving this layer: {0} sec\".format(iter_time-end_time))\n",
    "        end_time = iter_time\n",
    "        print('\\n')\n",
    "\n",
    "        break    \n",
    "\n",
    "    z = [cp.Variable(l.in_features) for l in affine[:k+1]]\n",
    "    zhat = [cp.Variable(l.out_features) for l in affine[:k]]\n",
    "    zhat += [cp.Variable(1)]\n",
    "    cons_ball = [z[0] >= sample - epsilon, z[0] <= sample + epsilon]\n",
    "\n",
    "    cons_minus = [z[i][I_minus[i-1]] == 0 for i in range(1,k+1) if np.sum(I_minus[i-1]) != 0]\n",
    "    cons_plus = [z[i+1][I_plus[i]] == zhat[i][I_plus[i]] for i in range(k) if np.sum(I_plus[i]) != 0]\n",
    "    \n",
    "    cons_zero = [z[i][I[i-1]] >= 0 for i in range(1,k+1) if np.sum(I[i-1]) != 0]\n",
    "    cons_linear = [z[i+1][I[i]] >= zhat[i][I[i]] for i in range(k) if np.sum(I[i]) != 0]\n",
    "    cons_upper = [(cp.multiply(-zu[i][I[i]], zhat[i][I[i]]) + \n",
    "                   cp.multiply((zu[i][I[i]] - zl[i][I[i]]), z[i+1][I[i]]) <= \n",
    "                     - zl[i][I[i]]*zu[i][I[i]]) for i in range(k) if np.sum(I[i]) != 0]\n",
    "    \n",
    "    for node_idx in range(affine[k].out_features):\n",
    "        cons_eq = [zhat[i] == W[i]*z[i] + b[i] for i in range(k)]\n",
    "        cons_eq += [zhat[k] == W[k][node_idx]*z[k] + b[k][node_idx]]\n",
    "\n",
    "        cons = cons_eq + cons_ball + cons_zero + cons_linear + cons_upper + cons_minus + cons_plus\n",
    "\n",
    "        if k == num_linear_layers-1:\n",
    "            if node_idx == y_pred.item():\n",
    "                margins.append(0)\n",
    "                continue\n",
    "            f_primal_1 = cp.Problem(cp.Minimize(C[node_idx]*zhat[-1]), cons).solve(verbose=False, solver=cp.ECOS, warm_start=True)\n",
    "            margins.append(f_primal_1)\n",
    "        else:\n",
    "            # Exact\n",
    "            f_primal_1 = cp.Problem(cp.Minimize(zhat[-1]), cons).solve(verbose=False, solver=cp.ECOS, warm_start=True)\n",
    "            f_min = zhat[-1][0].value\n",
    "            zl[k].append(f_min)\n",
    "\n",
    "            f_primal_2 = cp.Problem(cp.Maximize(zhat[-1]), cons).solve(verbose=False, solver=cp.ECOS, warm_start=True)\n",
    "            f_max = zhat[-1][0].value\n",
    "            zu[k].append(f_max)\n",
    "\n",
    "    zl[k] = np.array(zl[k])\n",
    "    zu[k] = np.array(zu[k])\n",
    "    I_minus[k] = zu[k] < 0\n",
    "    I_plus[k] = zl[k] > 0\n",
    "    I[k] = (zu[k] >= 0) * (zl[k] <= 0)\n",
    "    print('Percentage of Stable ReLUs = {} %'.format(100 - 100*np.sum(I[k])/len(I[k])))\n",
    "    iter_time = time.time()\n",
    "    print(\"Time for solving this layer: {0} sec\".format(iter_time-end_time))\n",
    "    end_time = iter_time\n",
    "    print('\\n')\n"
   ]
  },
  {
   "cell_type": "code",
   "execution_count": 42,
   "metadata": {},
   "outputs": [
    {
     "name": "stdout",
     "output_type": "stream",
     "text": [
      "ROBUST for epsilon=0.01!\n"
     ]
    },
    {
     "data": {
      "image/png": "[encoded data removed]",
      "text/plain": [
       "<Figure size 432x288 with 1 Axes>"
      ]
     },
     "metadata": {
      "needs_background": "light"
     },
     "output_type": "display_data"
    }
   ],
   "source": [
    "# np.array(margins) >= np.array(margins_cmu)\n",
    "plt.bar([i for i in range(10)], margins, label='exact_LP')\n",
    "plt.bar([i for i in range(10)], margins_cmu, color='r', alpha=0.4, label='cmu')\n",
    "plt.legend()\n",
    "plt.ylabel('Margin (robust if all positive)')\n",
    "plt.xlabel('class')\n",
    "plt.xticks([i for i in range(10)])\n",
    "if np.all(np.array(margins)>=0):\n",
    "    print('ROBUST for epsilon={}!'.format(epsilon))\n",
    "else:\n",
    "    print('NOT ROBUST for epsilon={} :('.format(epsilon))    "
   ]
  }
 ],
 "metadata": {
  "kernelspec": {
   "display_name": "Python 3",
   "language": "python",
   "name": "python3"
  },
  "language_info": {
   "codemirror_mode": {
    "name": "ipython",
    "version": 3
   },
   "file_extension": ".py",
   "mimetype": "text/x-python",
   "name": "python",
   "nbconvert_exporter": "python",
   "pygments_lexer": "ipython3",
   "version": "3.6.8"
  }
 },
 "nbformat": 4,
 "nbformat_minor": 2
}
