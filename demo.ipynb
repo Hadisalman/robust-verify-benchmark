{
 "cells": [
  {
   "cell_type": "markdown",
   "metadata": {
    "scrolled": true
   },
   "source": [
    "# Convex-relaxed Neural Network Robustness Verification Demo\n",
    "This notebook demonstrates the different robustness verification methods (MILP, LP-ALL, LP-LAST, and LP-GREEDY), used in our paper [A Convex Relaxation Barrier to Tight Robustness Verfication of Neural Networks](https://arxiv.org/abs/1902.08722), on a toy example. LP-Greedy is the dual network method of [Wong and Kolter](https://github.com/locuslab/convex_adversarial).\n",
    "\n",
    "In all the below experiments, we find the margins of each network given a data point and a maximum allowed perturbation. Here, the margins are defined as the difference between the logits corresponding to the predicted label and every other label, respectively. The network is certified to be robust around data point X if all the margins are positive."
   ]
  },
  {
   "cell_type": "code",
   "execution_count": 1,
   "metadata": {},
   "outputs": [],
   "source": [
    "%load_ext autoreload\n",
    "%autoreload 2\n",
    "\n",
    "import torch\n",
    "import torch.nn as nn\n",
    "from torch.autograd import Variable\n",
    "import torchvision.datasets as datasets\n",
    "import torchvision.transforms as transforms\n",
    "\n",
    "import matplotlib.pyplot as plt\n",
    "import numpy as np\n",
    "\n",
    "from wong_kolter.version0point2 import Affine, full_bias\n",
    "from wong_kolter import DualNetBounds as DualNetBounds\n",
    "\n",
    "#import gurobipy\n",
    "import cvxpy as cp"
   ]
  },
  {
   "cell_type": "markdown",
   "metadata": {},
   "source": [
    "#### Setup\n"
   ]
  },
  {
   "cell_type": "code",
   "execution_count": 2,
   "metadata": {},
   "outputs": [
    {
     "name": "stdout",
     "output_type": "stream",
     "text": [
      "The predicted class is \"7\". We want to check if within a maximum l_infinity perturbation of 0.5, this predicted label changes. If this is the case, the network is NOT robust around this data point. Otherwise, the network is robust.\n"
     ]
    }
   ],
   "source": [
    "## The maximum allowed l_infinity perturbation of the input.\n",
    "epsilon = 0.5\n",
    "############################################\n",
    "\n",
    "torch.manual_seed(1)\n",
    "\n",
    "class Flatten(nn.Module):\n",
    "    def forward(self, x):\n",
    "        return x.view(x.size(0), -1)\n",
    "\n",
    "# Load dataset\n",
    "mnist_test = datasets.MNIST('data', train=False, download=True, transform=transforms.ToTensor())\n",
    "test_loader = torch.utils.data.DataLoader(mnist_test, batch_size=1, shuffle=False, pin_memory=True)\n",
    "for X,y in test_loader:\n",
    "    break\n",
    "\n",
    "sample = X.flatten().numpy() # The sample that we want to verify the network around\n",
    "\n",
    "### A toy randomly initialized neural network\n",
    "input_dim = sample.shape[0]\n",
    "num_classes = 10\n",
    "\n",
    "net = nn.Sequential(\n",
    "    Flatten(),\n",
    "    nn.Linear(input_dim,4),\n",
    "    nn.ReLU(),\n",
    "    nn.Linear(4,4),\n",
    "    nn.ReLU(),\n",
    "    nn.Linear(4,num_classes)\n",
    ")\n",
    "\n",
    "logits = net(X)\n",
    "y_pred = logits.max(1)[1]\n",
    "print('The predicted class is \"{}\". We want to check if within a maximum l_infinity perturbation of {}, this predicted label changes. \\\n",
    "If this is the case, the network is NOT robust around this data point. Otherwise, the network is robust.'.format(y_pred.item(), epsilon))"
   ]
  },
  {
   "cell_type": "markdown",
   "metadata": {},
   "source": [
    "## LP-GREEDY\n",
    "This is the dual LP formulation of [Wong and Kolter 2018](https://arxiv.org/abs/1711.00851). "
   ]
  },
  {
   "cell_type": "code",
   "execution_count": 3,
   "metadata": {},
   "outputs": [
    {
     "name": "stdout",
     "output_type": "stream",
     "text": [
      "Robustness NOT certified for epsilon=0.5 using LP-GREEDY\n"
     ]
    },
    {
     "data": {
      "image/png": "[encoded data removed]",
      "text/plain": [
       "<Figure size 432x288 with 1 Axes>"
      ]
     },
     "metadata": {
      "needs_background": "light"
     },
     "output_type": "display_data"
    }
   ],
   "source": [
    "dual_net = DualNetBounds(net, X, epsilon, bounded_input=True)\n",
    "C = torch.eye(num_classes).type_as(X)[y_pred].unsqueeze(1) - torch.eye(num_classes).type_as(X).unsqueeze(0)\n",
    "margins_lp_greedy = dual_net(C).data\n",
    "\n",
    "margins_lp_greedy = margins_lp_greedy.flatten().data.numpy()\n",
    "\n",
    "plt.scatter([i for i in range(num_classes)],margins_lp_greedy, label='LP-GREEDY', color='g', alpha=0.4)\n",
    "plt.plot([-1,num_classes],[0,0], color='k')\n",
    "plt.legend()\n",
    "plt.title('robustness is certified if all margins are positive')\n",
    "plt.ylabel('Margins')\n",
    "plt.xlabel('Class')\n",
    "plt.xticks([i for i in range(10)])\n",
    "if np.all(np.array(margins_lp_greedy)>=0):\n",
    "    print('Robustness certified for epsilon={} using LP-GREEDY'.format(epsilon))\n",
    "else:\n",
    "    print('Robustness NOT certified for epsilon={} using LP-GREEDY'.format(epsilon))"
   ]
  },
  {
   "cell_type": "markdown",
   "metadata": {},
   "source": [
    "## LP-LAST\n",
    "This is the same as LP-GREEDY, but solves the exact primal LP on the last layer of the neural network, instead of solving the dual heuristically. The preactivation bounds on the internal neurons of the network are the ones used by LP-GREEDY. Therefore, LP-LAST is expected to be slightly tighter than LP-GREEDY."
   ]
  },
  {
   "cell_type": "markdown",
   "metadata": {},
   "source": [
    "#### Helper functions"
   ]
  },
  {
   "cell_type": "code",
   "execution_count": 4,
   "metadata": {},
   "outputs": [],
   "source": [
    "def get_linearLayers_net(W, b):\n",
    "    layers_list = [[nn.Linear(ww.shape[1],ww.shape[0]), nn.ReLU()] for ww in W]\n",
    "    flat_layers_list = [item for sublist in layers_list for item in sublist]\n",
    "    net = nn.Sequential(Flatten(),\n",
    "                       *flat_layers_list[:-1]\n",
    "                       )\n",
    "    # Load weights\n",
    "    i = 0\n",
    "    for idx,l in enumerate(net):\n",
    "        if isinstance(l, nn.Linear):\n",
    "            l.weight.data = torch.Tensor(W[i])\n",
    "            l.bias.data = torch.Tensor(b[i])\n",
    "            i += 1\n",
    "    return net\n",
    "\n",
    "\n",
    "def init_affine(net, X):\n",
    "    layers = [l for l in net if isinstance(l, (nn.Linear, nn.Conv2d))]\n",
    "    affine = [Affine(l) for l in layers]\n",
    "\n",
    "    _ = X.view(1,-1)\n",
    "    for a in affine: \n",
    "        _ = a(_)\n",
    "\n",
    "    biases = [full_bias(l, affine[i].out_features) \n",
    "                    for i,l in enumerate(layers)]\n",
    "    return affine, biases"
   ]
  },
  {
   "cell_type": "code",
   "execution_count": 5,
   "metadata": {},
   "outputs": [],
   "source": [
    "C = np.eye(num_classes)[y_pred] - np.eye(num_classes)\n",
    "\n",
    "affine, biases = init_affine(net, X)\n",
    "num_linear_layers = len(affine)\n",
    "\n",
    "# Get the weights and biases from the network. Will be used in the LP formulation later. \n",
    "W = [l(Variable(torch.eye(l.in_features))).t().cpu().data.numpy() for l in affine]\n",
    "b = [bias.view(-1).cpu().data.numpy() for bias in biases]\n",
    "\n",
    "# Popoulate the preactivation bounds of all layers except the last layer.\n",
    "zl = []\n",
    "zu = []\n",
    "for idx, (ww,bb) in enumerate(zip(W,b), start=1):\n",
    "    dual_net = DualNetBounds(get_linearLayers_net(W[:idx], b[:idx]), X, epsilon, bounded_input=True)\n",
    "    CC = torch.eye(ww.shape[0]).type_as(X).unsqueeze(0)\n",
    "    zl.append(dual_net(CC).data.squeeze(0))\n",
    "    CC = -torch.eye(ww.shape[0]).type_as(X).unsqueeze(0)\n",
    "    zu.append(-dual_net(CC).data.squeeze(0))\n",
    "\n",
    "# This LP formulation can be found in Appendix A.1 of Wong and Kolter 2018 (https://arxiv.org/abs/1711.00851).\n",
    "# The implementation is modified from (https://github.com/locuslab/convex_adversarial)\n",
    "z = [cp.Variable(l.in_features) for l in affine]\n",
    "zhat = [cp.Variable(l.out_features) for l in affine]\n",
    "\n",
    "# Constraints of the LP\n",
    "cons_eq = [zhat[i] == W[i]*z[i] + b[i] for i in range(num_linear_layers)]\n",
    "cons_ball = [z[0] >= sample - epsilon, z[0] <= sample + epsilon, z[0] >= 0, z[0] <= 1.0]\n",
    "cons_zero = [z[i] >= 0 for i in range(1,num_linear_layers)]\n",
    "cons_linear = [z[i+1] >= zhat[i] for i in range(num_linear_layers-1)]\n",
    "cons_upper = [(cp.multiply(-(np.maximum(zu[i],0) - np.maximum(zl[i], 0)), zhat[i]) +\n",
    "               cp.multiply((zu[i] - zl[i]), z[i+1]) <= \n",
    "               zu[i]*np.maximum(zl[i],0) - zl[i]*np.maximum(zu[i],0)) for i in range(num_linear_layers-1)]\n",
    "\n",
    "cons = cons_eq + cons_ball + cons_zero + cons_linear + cons_upper\n",
    "\n",
    "# For each neuron in the last layer, solve an LP to find the margin.\n",
    "margins_lp_last = []\n",
    "for node_idx in range(zu[-1].shape[0]):\n",
    "    f_primal = cp.Problem(cp.Minimize(C[node_idx]*zhat[-1]), cons).solve(verbose=False, solver=cp.ECOS)\n",
    "    margins_lp_last.append(f_primal)"
   ]
  },
  {
   "cell_type": "code",
   "execution_count": 6,
   "metadata": {},
   "outputs": [
    {
     "name": "stdout",
     "output_type": "stream",
     "text": [
      "Robustness NOT certified for epsilon=0.5 using LP-LAST\n"
     ]
    },
    {
     "data": {
      "image/png": "[encoded data removed]",
      "text/plain": [
       "<Figure size 432x288 with 1 Axes>"
      ]
     },
     "metadata": {
      "needs_background": "light"
     },
     "output_type": "display_data"
    }
   ],
   "source": [
    "plt.scatter([i for i in range(10)],margins_lp_last, label='LP-LAST',color='r', alpha=0.4)\n",
    "plt.scatter([i for i in range(10)], margins_lp_greedy, color='g', alpha=0.4, label='LP-GREEDY')\n",
    "plt.plot([-1,10],[0,0], color='k')\n",
    "\n",
    "plt.legend()\n",
    "plt.title('robustness is certified if all margins are positive')\n",
    "plt.ylabel('Margins')\n",
    "plt.xlabel('Class')\n",
    "plt.xticks([i for i in range(10)])\n",
    "if np.all(np.array(margins_lp_last)>=0):\n",
    "    print('Robustness certified for epsilon={} using LP-LAST'.format(epsilon))\n",
    "else:\n",
    "    print('Robustness NOT certified for epsilon={} using LP-LAST'.format(epsilon))"
   ]
  },
  {
   "cell_type": "markdown",
   "metadata": {},
   "source": [
    "# LP-ALL\n",
    "This is the layer-wise optimal convex relaxation formulation that is defined in Section 5.1 of [our paper](https://arxiv.org/abs/1902.08722). LP-ALL is tighter than both LP-LAST and LP-GREEDY."
   ]
  },
  {
   "cell_type": "code",
   "execution_count": 7,
   "metadata": {},
   "outputs": [
    {
     "name": "stdout",
     "output_type": "stream",
     "text": [
      "Layer:  0\n",
      "Number of nodes in layer 0 is 4\n",
      "Layer:  1\n",
      "Number of nodes in layer 1 is 4\n",
      "Layer:  2\n",
      "Number of nodes in layer 2 is 10\n"
     ]
    }
   ],
   "source": [
    "C = np.eye(num_classes)[y_pred] - np.eye(num_classes)\n",
    "\n",
    "affine, biases = init_affine(net, X)\n",
    "num_linear_layers = len(affine)\n",
    "\n",
    "# Get the weights and biases from the network. Will be used in the LP formulation later. \n",
    "W = [l(Variable(torch.eye(l.in_features))).t().cpu().data.numpy() for l in affine]\n",
    "b = [bias.view(-1).cpu().data.numpy() for bias in biases]\n",
    "\n",
    "zl = [[] for i in range(num_linear_layers)]\n",
    "zu = [[] for i in range(num_linear_layers)]\n",
    "\n",
    "for k in range(num_linear_layers):\n",
    "    print('Layer: ',k)\n",
    "    print('Number of nodes in layer {0} is {1}'.format(k, affine[k].out_features))\n",
    "    z = [cp.Variable(l.in_features) for l in affine[:k+1]]\n",
    "    zhat = [cp.Variable(l.out_features) for l in affine[:k+1]]\n",
    "\n",
    "    # Constraints of the LP\n",
    "    cons_eq = [zhat[i] == W[i]*z[i] + b[i] for i in range(k+1)]\n",
    "    cons_ball = [z[0] >= sample - epsilon, z[0] <= sample + epsilon, z[0] >= 0, z[0] <= 1.0]\n",
    "    cons_zero = [z[i] >= 0 for i in range(1,k+1)]\n",
    "    cons_linear = [z[i+1] >= zhat[i] for i in range(k)]\n",
    "    cons_upper = [(cp.multiply(-(np.maximum(zu[i],0) - np.maximum(zl[i], 0)), zhat[i]) +\n",
    "                    cp.multiply((zu[i] - zl[i]), z[i+1]) <= \n",
    "                    zu[i]*np.maximum(zl[i],0) - zl[i]*np.maximum(zu[i],0)) for i in range(k)]\n",
    "    cons = cons_eq + cons_ball + cons_zero + cons_linear + cons_upper\n",
    "\n",
    "    margins_lp_all = []\n",
    "    for node_idx in range(affine[k].out_features):\n",
    "        if k == num_linear_layers-1:\n",
    "            if node_idx == y_pred.item():\n",
    "                margins_lp_all.append(0)\n",
    "                continue\n",
    "            f_primal_1 = cp.Problem(cp.Minimize(C[node_idx]*zhat[-1]), cons).solve(verbose=False, solver=cp.ECOS)\n",
    "            margins_lp_all.append(f_primal_1)\n",
    "        else:\n",
    "            f_primal_1 = cp.Problem(cp.Minimize(zhat[-1][node_idx]), cons).solve(verbose=False, solver=cp.ECOS)\n",
    "            f_min = zhat[-1][node_idx].value\n",
    "            zl[k].append(f_min)\n",
    "\n",
    "            f_primal_2 = cp.Problem(cp.Maximize(zhat[-1][node_idx]), cons).solve(verbose=False, solver=cp.ECOS)\n",
    "            f_max = zhat[-1][node_idx].value\n",
    "            zu[k].append(f_max)\n",
    "    zl[k] = np.array(zl[k])\n",
    "    zu[k] = np.array(zu[k])\n"
   ]
  },
  {
   "cell_type": "code",
   "execution_count": 8,
   "metadata": {},
   "outputs": [
    {
     "name": "stdout",
     "output_type": "stream",
     "text": [
      "Robustness NOT certified for epsilon=0.5 using LP-ALL\n"
     ]
    },
    {
     "data": {
      "image/png": "[encoded data removed]",
      "text/plain": [
       "<Figure size 432x288 with 1 Axes>"
      ]
     },
     "metadata": {
      "needs_background": "light"
     },
     "output_type": "display_data"
    }
   ],
   "source": [
    "plt.scatter([i for i in range(10)], margins_lp_all, color='y', alpha=0.6, label='LP-ALL')\n",
    "plt.scatter([i for i in range(10)], margins_lp_last, color='r', alpha=0.4, label='LP-LAST')\n",
    "plt.scatter([i for i in range(10)], margins_lp_greedy, color='g', alpha=0.4, label='LP-GREEDY')\n",
    "plt.plot([-1,10],[0,0], color='k')\n",
    "plt.legend()\n",
    "plt.title('robustness is certified if all margins are positive')\n",
    "plt.ylabel('Margins')\n",
    "plt.xlabel('Class')\n",
    "plt.xticks([i for i in range(10)])\n",
    "if np.all(np.array(margins_lp_all)>=0):\n",
    "    print('Robustness certified for epsilon={} using LP-ALL'.format(epsilon))\n",
    "else:\n",
    "    print('Robustness NOT certified for epsilon={} using LP-ALL'.format(epsilon))"
   ]
  },
  {
   "cell_type": "markdown",
   "metadata": {},
   "source": [
    "# MILP\n",
    "This is a simple implementation of the MILP formulation for ReLU networks of the [Tjeng et. al., 2019](https://arxiv.org/abs/1711.07356). MILP solves the verification problem exactly, there fore is tighter than the above algorithms."
   ]
  },
  {
   "cell_type": "code",
   "execution_count": 9,
   "metadata": {},
   "outputs": [],
   "source": [
    "C = np.eye(num_classes)[y_pred] - np.eye(num_classes)\n",
    "\n",
    "affine, biases = init_affine(net, X)\n",
    "num_linear_layers = len(affine)\n",
    "\n",
    "W = [l(Variable(torch.eye(l.in_features))).t().cpu().data.numpy() for l in affine]\n",
    "b = [bias.view(-1).cpu().data.numpy() for bias in biases]\n",
    "\n",
    "margins_milp = []\n",
    "z = [cp.Variable(l.in_features) for l in affine[:num_linear_layers]]\n",
    "zhat = [cp.Variable(l.out_features) for l in affine[:num_linear_layers]]\n",
    "a = [cp.Variable(l.out_features, boolean=True) for l in affine[:num_linear_layers]]\n",
    "\n",
    "# These MILP constraints can be found in the formulation presented \n",
    "# in Appendix A.1 of Tjeng et. al., 2019 (https://arxiv.org/abs/1711.07356)\n",
    "cons_eq = [zhat[i] == W[i]*z[i] + b[i] for i in range(num_linear_layers)]\n",
    "cons_ball = [z[0] >= sample - epsilon, z[0] <= sample + epsilon, z[0] >= 0, z[0] <= 1.0]\n",
    "cons_zero = [z[i] >= 0 for i in range(1,num_linear_layers)]\n",
    "cons_linear = [z[i+1] >= zhat[i] for i in range(num_linear_layers-1)]\n",
    "cons_milp_1 = [z[i+1] <= cp.multiply(zu[i],a[i]) for i in range(num_linear_layers-1)]\n",
    "cons_milp_2 = [z[i+1] <= zhat[i] - cp.multiply(zl[i],(1 - a[i])) for i in range(num_linear_layers-1)]\n",
    "\n",
    "cons = cons_eq + cons_ball + cons_zero + cons_linear + cons_milp_1 + cons_milp_2\n",
    "\n",
    "for node_idx in range(affine[num_linear_layers-1].out_features):\n",
    "    if node_idx == y_pred.item():\n",
    "        margins_milp.append(0)\n",
    "        continue\n",
    "    f_primal_1 = cp.Problem(cp.Minimize(C[node_idx]*zhat[-1]), cons).solve(verbose=False, solver=cp.ECOS_BB)\n",
    "    margins_milp.append(f_primal_1)"
   ]
  },
  {
   "cell_type": "code",
   "execution_count": 10,
   "metadata": {},
   "outputs": [
    {
     "name": "stdout",
     "output_type": "stream",
     "text": [
      "Robustness NOT certified for epsilon=0.5 using MILP\n"
     ]
    },
    {
     "data": {
      "image/png": "[encoded data removed]",
      "text/plain": [
       "<Figure size 432x288 with 1 Axes>"
      ]
     },
     "metadata": {
      "needs_background": "light"
     },
     "output_type": "display_data"
    }
   ],
   "source": [
    "plt.scatter([i for i in range(10)], margins_milp, label='MILP')\n",
    "plt.scatter([i for i in range(10)], margins_lp_all, color='y', alpha=0.6, label='LP-ALL')\n",
    "plt.scatter([i for i in range(10)], margins_lp_last, color='r', alpha=0.4, label='LP-LAST')\n",
    "plt.scatter([i for i in range(10)], margins_lp_greedy, color='g', alpha=0.2, label='LP-GREEDY')\n",
    "plt.plot([-1,10],[0,0], color='k')\n",
    "plt.legend()\n",
    "plt.title('robustness is certified if all margins are positive')\n",
    "plt.ylabel('Margins')\n",
    "plt.xlabel('Class')\n",
    "plt.xticks([i for i in range(10)])\n",
    "if np.all(np.array(margins_milp)>=0):\n",
    "    print('Robustness certified for epsilon={} using MILP'.format(epsilon))\n",
    "else:\n",
    "    print('Robustness NOT certified for epsilon={} using MILP'.format(epsilon))"
   ]
  }
 ],
 "metadata": {
  "kernelspec": {
   "display_name": "Python 3",
   "language": "python",
   "name": "python3"
  },
  "language_info": {
   "codemirror_mode": {
    "name": "ipython",
    "version": 3
   },
   "file_extension": ".py",
   "mimetype": "text/x-python",
   "name": "python",
   "nbconvert_exporter": "python",
   "pygments_lexer": "ipython3",
   "version": "3.6.8"
  }
 },
 "nbformat": 4,
 "nbformat_minor": 2
}
